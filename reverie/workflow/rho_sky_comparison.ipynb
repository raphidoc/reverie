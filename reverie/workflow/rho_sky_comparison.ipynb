{
 "cells": [
  {
   "cell_type": "code",
   "execution_count": 9,
   "id": "initial_id",
   "metadata": {
    "collapsed": true,
    "ExecuteTime": {
     "end_time": "2024-05-16T07:27:35.766666686Z",
     "start_time": "2024-05-16T07:27:35.731070061Z"
    }
   },
   "outputs": [],
   "source": [
    "import netCDF4 as nc\n",
    "import xarray as xr\n"
   ]
  },
  {
   "cell_type": "markdown",
   "source": [
    "# Mobley 1999 sea-surface reflectance factor (Hydrolight)\n",
    "\n",
    "Mobley, C.D. (1999) ‘Estimation of the remote-sensing reflectance from above-surface measurements’, Applied Optics, 38(36), p. 7442. Available at: https://doi.org/10.1364/AO.38.007442.\n"
   ],
   "metadata": {
    "collapsed": false
   },
   "id": "5c527ced1c2d2750"
  },
  {
   "cell_type": "code",
   "outputs": [],
   "source": [],
   "metadata": {
    "collapsed": false,
    "ExecuteTime": {
     "end_time": "2024-05-16T07:27:35.768522887Z",
     "start_time": "2024-05-16T07:27:35.767103385Z"
    }
   },
   "id": "4e9ca8e763c22065",
   "execution_count": 9
  },
  {
   "cell_type": "markdown",
   "source": [
    "# ACOLITE sea-surface sky reflectance computed from (OSOAA, Chami 2015)\n",
    "\n",
    "Vanhellemont, Q. (2020) ‘Sensitivity analysis of the dark spectrum fitting atmospheric correction for metre- and decametre-scale satellite imagery using autonomous hyperspectral radiometry’, Optics Express, 28(20), pp. 29948–29965. Available at: https://doi.org/10.1364/OE.397456."
   ],
   "metadata": {
    "collapsed": false
   },
   "id": "baafe77e7be3d93c"
  },
  {
   "cell_type": "code",
   "outputs": [
    {
     "ename": "FileNotFoundError",
     "evalue": "[Errno 2] No such file or directory: '/D/Documents/PhD/Thesis/Chapter2/Data/ACOLITE-RSKY-202102-82W-MOD2.nc'",
     "output_type": "error",
     "traceback": [
      "\u001B[0;31m---------------------------------------------------------------------------\u001B[0m",
      "\u001B[0;31mFileNotFoundError\u001B[0m                         Traceback (most recent call last)",
      "Cell \u001B[0;32mIn[10], line 1\u001B[0m\n\u001B[0;32m----> 1\u001B[0m rho_sky_chami2015 \u001B[38;5;241m=\u001B[39m \u001B[43mnc\u001B[49m\u001B[38;5;241;43m.\u001B[39;49m\u001B[43mDataset\u001B[49m\u001B[43m(\u001B[49m\n\u001B[1;32m      2\u001B[0m \u001B[43m    \u001B[49m\u001B[38;5;124;43m\"\u001B[39;49m\u001B[38;5;124;43m/D/Documents/PhD/Thesis/Chapter2/Data/ACOLITE-RSKY-202102-82W-MOD2.nc\u001B[39;49m\u001B[38;5;124;43m\"\u001B[39;49m\u001B[43m,\u001B[49m\n\u001B[1;32m      3\u001B[0m \u001B[43m    \u001B[49m\u001B[38;5;124;43m\"\u001B[39;49m\u001B[38;5;124;43mr\u001B[39;49m\u001B[38;5;124;43m\"\u001B[39;49m\u001B[43m,\u001B[49m\n\u001B[1;32m      4\u001B[0m \u001B[43m    \u001B[49m\u001B[38;5;28;43mformat\u001B[39;49m\u001B[38;5;241;43m=\u001B[39;49m\u001B[38;5;124;43m\"\u001B[39;49m\u001B[38;5;124;43mNETCDF4\u001B[39;49m\u001B[38;5;124;43m\"\u001B[39;49m\u001B[43m,\u001B[49m\n\u001B[1;32m      5\u001B[0m \u001B[43m)\u001B[49m\n",
      "File \u001B[0;32msrc/netCDF4/_netCDF4.pyx:2464\u001B[0m, in \u001B[0;36mnetCDF4._netCDF4.Dataset.__init__\u001B[0;34m()\u001B[0m\n",
      "File \u001B[0;32msrc/netCDF4/_netCDF4.pyx:2027\u001B[0m, in \u001B[0;36mnetCDF4._netCDF4._ensure_nc_success\u001B[0;34m()\u001B[0m\n",
      "\u001B[0;31mFileNotFoundError\u001B[0m: [Errno 2] No such file or directory: '/D/Documents/PhD/Thesis/Chapter2/Data/ACOLITE-RSKY-202102-82W-MOD2.nc'"
     ]
    }
   ],
   "source": [
    "rho_sky_chami2015 = nc.Dataset(\n",
    "    \"/D/Documents/PhD/Thesis/Chapter2/Data/ACOLITE-RSKY-202102-82W-MOD2.nc\",\n",
    "    \"r\",\n",
    "    format=\"NETCDF4\",\n",
    ")"
   ],
   "metadata": {
    "collapsed": false,
    "ExecuteTime": {
     "end_time": "2024-05-16T07:27:35.836363403Z",
     "start_time": "2024-05-16T07:27:35.793801100Z"
    }
   },
   "id": "3ce2ea65785fb3ee",
   "execution_count": 10
  },
  {
   "cell_type": "markdown",
   "source": [
    "# Zhang 2018 sea surface reflectance factor\n",
    "\n",
    "Zhang, X. et al. (2017) ‘Spectral sea surface reflectance of skylight’, Optics Express, 25(4), pp. A1–A13. Available at: https://doi.org/10.1364/OE.25.0000A1.\n"
   ],
   "metadata": {
    "collapsed": false
   },
   "id": "88fabc373eb02c6e"
  },
  {
   "cell_type": "code",
   "outputs": [],
   "source": [
    "rho_sky_zhang2018 = xr.open_dataset(\n",
    "    \"/home/raphael/PycharmProjects/HyperCP/Data/Zhang_rho_db.mat\",\n",
    "    engine = 'netcdf4'\n",
    ")"
   ],
   "metadata": {
    "collapsed": false,
    "ExecuteTime": {
     "end_time": "2024-05-16T07:27:43.436078832Z",
     "start_time": "2024-05-16T07:27:43.405229439Z"
    }
   },
   "id": "e5c976910ffba61d",
   "execution_count": 11
  },
  {
   "cell_type": "code",
   "outputs": [
    {
     "data": {
      "text/plain": "<xarray.Dataset>\nDimensions:           (phony_dim_26: 37, phony_dim_27: 36, phony_dim_28: 18,\n                       phony_dim_29: 13, phony_dim_30: 5, phony_dim_31: 4,\n                       phony_dim_32: 131, phony_dim_33: 92476, phony_dim_34: 7,\n                       phony_dim_35: 131, phony_dim_36: 4, phony_dim_37: 7)\nDimensions without coordinates: phony_dim_26, phony_dim_27, phony_dim_28,\n                                phony_dim_29, phony_dim_30, phony_dim_31,\n                                phony_dim_32, phony_dim_33, phony_dim_34,\n                                phony_dim_35, phony_dim_36, phony_dim_37\nData variables:\n    Radiance_BOA_sca  (phony_dim_26, phony_dim_27, phony_dim_28, phony_dim_29, phony_dim_30, phony_dim_31) float64 ...\n    Radiance_BOA_vec  (phony_dim_26, phony_dim_27, phony_dim_28, phony_dim_29, phony_dim_30, phony_dim_31) float64 ...\n    skyrad0           (phony_dim_32, phony_dim_33, phony_dim_31, phony_dim_34) float64 ...\n    sunrad0           (phony_dim_35, phony_dim_36, phony_dim_37) float64 ...",
      "text/html": "<div><svg style=\"position: absolute; width: 0; height: 0; overflow: hidden\">\n<defs>\n<symbol id=\"icon-database\" viewBox=\"0 0 32 32\">\n<path d=\"M16 0c-8.837 0-16 2.239-16 5v4c0 2.761 7.163 5 16 5s16-2.239 16-5v-4c0-2.761-7.163-5-16-5z\"></path>\n<path d=\"M16 17c-8.837 0-16-2.239-16-5v6c0 2.761 7.163 5 16 5s16-2.239 16-5v-6c0 2.761-7.163 5-16 5z\"></path>\n<path d=\"M16 26c-8.837 0-16-2.239-16-5v6c0 2.761 7.163 5 16 5s16-2.239 16-5v-6c0 2.761-7.163 5-16 5z\"></path>\n</symbol>\n<symbol id=\"icon-file-text2\" viewBox=\"0 0 32 32\">\n<path d=\"M28.681 7.159c-0.694-0.947-1.662-2.053-2.724-3.116s-2.169-2.030-3.116-2.724c-1.612-1.182-2.393-1.319-2.841-1.319h-15.5c-1.378 0-2.5 1.121-2.5 2.5v27c0 1.378 1.122 2.5 2.5 2.5h23c1.378 0 2.5-1.122 2.5-2.5v-19.5c0-0.448-0.137-1.23-1.319-2.841zM24.543 5.457c0.959 0.959 1.712 1.825 2.268 2.543h-4.811v-4.811c0.718 0.556 1.584 1.309 2.543 2.268zM28 29.5c0 0.271-0.229 0.5-0.5 0.5h-23c-0.271 0-0.5-0.229-0.5-0.5v-27c0-0.271 0.229-0.5 0.5-0.5 0 0 15.499-0 15.5 0v7c0 0.552 0.448 1 1 1h7v19.5z\"></path>\n<path d=\"M23 26h-14c-0.552 0-1-0.448-1-1s0.448-1 1-1h14c0.552 0 1 0.448 1 1s-0.448 1-1 1z\"></path>\n<path d=\"M23 22h-14c-0.552 0-1-0.448-1-1s0.448-1 1-1h14c0.552 0 1 0.448 1 1s-0.448 1-1 1z\"></path>\n<path d=\"M23 18h-14c-0.552 0-1-0.448-1-1s0.448-1 1-1h14c0.552 0 1 0.448 1 1s-0.448 1-1 1z\"></path>\n</symbol>\n</defs>\n</svg>\n<style>/* CSS stylesheet for displaying xarray objects in jupyterlab.\n *\n */\n\n:root {\n  --xr-font-color0: var(--jp-content-font-color0, rgba(0, 0, 0, 1));\n  --xr-font-color2: var(--jp-content-font-color2, rgba(0, 0, 0, 0.54));\n  --xr-font-color3: var(--jp-content-font-color3, rgba(0, 0, 0, 0.38));\n  --xr-border-color: var(--jp-border-color2, #e0e0e0);\n  --xr-disabled-color: var(--jp-layout-color3, #bdbdbd);\n  --xr-background-color: var(--jp-layout-color0, white);\n  --xr-background-color-row-even: var(--jp-layout-color1, white);\n  --xr-background-color-row-odd: var(--jp-layout-color2, #eeeeee);\n}\n\nhtml[theme=dark],\nbody[data-theme=dark],\nbody.vscode-dark {\n  --xr-font-color0: rgba(255, 255, 255, 1);\n  --xr-font-color2: rgba(255, 255, 255, 0.54);\n  --xr-font-color3: rgba(255, 255, 255, 0.38);\n  --xr-border-color: #1F1F1F;\n  --xr-disabled-color: #515151;\n  --xr-background-color: #111111;\n  --xr-background-color-row-even: #111111;\n  --xr-background-color-row-odd: #313131;\n}\n\n.xr-wrap {\n  display: block !important;\n  min-width: 300px;\n  max-width: 700px;\n}\n\n.xr-text-repr-fallback {\n  /* fallback to plain text repr when CSS is not injected (untrusted notebook) */\n  display: none;\n}\n\n.xr-header {\n  padding-top: 6px;\n  padding-bottom: 6px;\n  margin-bottom: 4px;\n  border-bottom: solid 1px var(--xr-border-color);\n}\n\n.xr-header > div,\n.xr-header > ul {\n  display: inline;\n  margin-top: 0;\n  margin-bottom: 0;\n}\n\n.xr-obj-type,\n.xr-array-name {\n  margin-left: 2px;\n  margin-right: 10px;\n}\n\n.xr-obj-type {\n  color: var(--xr-font-color2);\n}\n\n.xr-sections {\n  padding-left: 0 !important;\n  display: grid;\n  grid-template-columns: 150px auto auto 1fr 20px 20px;\n}\n\n.xr-section-item {\n  display: contents;\n}\n\n.xr-section-item input {\n  display: none;\n}\n\n.xr-section-item input + label {\n  color: var(--xr-disabled-color);\n}\n\n.xr-section-item input:enabled + label {\n  cursor: pointer;\n  color: var(--xr-font-color2);\n}\n\n.xr-section-item input:enabled + label:hover {\n  color: var(--xr-font-color0);\n}\n\n.xr-section-summary {\n  grid-column: 1;\n  color: var(--xr-font-color2);\n  font-weight: 500;\n}\n\n.xr-section-summary > span {\n  display: inline-block;\n  padding-left: 0.5em;\n}\n\n.xr-section-summary-in:disabled + label {\n  color: var(--xr-font-color2);\n}\n\n.xr-section-summary-in + label:before {\n  display: inline-block;\n  content: '►';\n  font-size: 11px;\n  width: 15px;\n  text-align: center;\n}\n\n.xr-section-summary-in:disabled + label:before {\n  color: var(--xr-disabled-color);\n}\n\n.xr-section-summary-in:checked + label:before {\n  content: '▼';\n}\n\n.xr-section-summary-in:checked + label > span {\n  display: none;\n}\n\n.xr-section-summary,\n.xr-section-inline-details {\n  padding-top: 4px;\n  padding-bottom: 4px;\n}\n\n.xr-section-inline-details {\n  grid-column: 2 / -1;\n}\n\n.xr-section-details {\n  display: none;\n  grid-column: 1 / -1;\n  margin-bottom: 5px;\n}\n\n.xr-section-summary-in:checked ~ .xr-section-details {\n  display: contents;\n}\n\n.xr-array-wrap {\n  grid-column: 1 / -1;\n  display: grid;\n  grid-template-columns: 20px auto;\n}\n\n.xr-array-wrap > label {\n  grid-column: 1;\n  vertical-align: top;\n}\n\n.xr-preview {\n  color: var(--xr-font-color3);\n}\n\n.xr-array-preview,\n.xr-array-data {\n  padding: 0 5px !important;\n  grid-column: 2;\n}\n\n.xr-array-data,\n.xr-array-in:checked ~ .xr-array-preview {\n  display: none;\n}\n\n.xr-array-in:checked ~ .xr-array-data,\n.xr-array-preview {\n  display: inline-block;\n}\n\n.xr-dim-list {\n  display: inline-block !important;\n  list-style: none;\n  padding: 0 !important;\n  margin: 0;\n}\n\n.xr-dim-list li {\n  display: inline-block;\n  padding: 0;\n  margin: 0;\n}\n\n.xr-dim-list:before {\n  content: '(';\n}\n\n.xr-dim-list:after {\n  content: ')';\n}\n\n.xr-dim-list li:not(:last-child):after {\n  content: ',';\n  padding-right: 5px;\n}\n\n.xr-has-index {\n  font-weight: bold;\n}\n\n.xr-var-list,\n.xr-var-item {\n  display: contents;\n}\n\n.xr-var-item > div,\n.xr-var-item label,\n.xr-var-item > .xr-var-name span {\n  background-color: var(--xr-background-color-row-even);\n  margin-bottom: 0;\n}\n\n.xr-var-item > .xr-var-name:hover span {\n  padding-right: 5px;\n}\n\n.xr-var-list > li:nth-child(odd) > div,\n.xr-var-list > li:nth-child(odd) > label,\n.xr-var-list > li:nth-child(odd) > .xr-var-name span {\n  background-color: var(--xr-background-color-row-odd);\n}\n\n.xr-var-name {\n  grid-column: 1;\n}\n\n.xr-var-dims {\n  grid-column: 2;\n}\n\n.xr-var-dtype {\n  grid-column: 3;\n  text-align: right;\n  color: var(--xr-font-color2);\n}\n\n.xr-var-preview {\n  grid-column: 4;\n}\n\n.xr-index-preview {\n  grid-column: 2 / 5;\n  color: var(--xr-font-color2);\n}\n\n.xr-var-name,\n.xr-var-dims,\n.xr-var-dtype,\n.xr-preview,\n.xr-attrs dt {\n  white-space: nowrap;\n  overflow: hidden;\n  text-overflow: ellipsis;\n  padding-right: 10px;\n}\n\n.xr-var-name:hover,\n.xr-var-dims:hover,\n.xr-var-dtype:hover,\n.xr-attrs dt:hover {\n  overflow: visible;\n  width: auto;\n  z-index: 1;\n}\n\n.xr-var-attrs,\n.xr-var-data,\n.xr-index-data {\n  display: none;\n  background-color: var(--xr-background-color) !important;\n  padding-bottom: 5px !important;\n}\n\n.xr-var-attrs-in:checked ~ .xr-var-attrs,\n.xr-var-data-in:checked ~ .xr-var-data,\n.xr-index-data-in:checked ~ .xr-index-data {\n  display: block;\n}\n\n.xr-var-data > table {\n  float: right;\n}\n\n.xr-var-name span,\n.xr-var-data,\n.xr-index-name div,\n.xr-index-data,\n.xr-attrs {\n  padding-left: 25px !important;\n}\n\n.xr-attrs,\n.xr-var-attrs,\n.xr-var-data,\n.xr-index-data {\n  grid-column: 1 / -1;\n}\n\ndl.xr-attrs {\n  padding: 0;\n  margin: 0;\n  display: grid;\n  grid-template-columns: 125px auto;\n}\n\n.xr-attrs dt,\n.xr-attrs dd {\n  padding: 0;\n  margin: 0;\n  float: left;\n  padding-right: 10px;\n  width: auto;\n}\n\n.xr-attrs dt {\n  font-weight: normal;\n  grid-column: 1;\n}\n\n.xr-attrs dt:hover span {\n  display: inline-block;\n  background: var(--xr-background-color);\n  padding-right: 10px;\n}\n\n.xr-attrs dd {\n  grid-column: 2;\n  white-space: pre-wrap;\n  word-break: break-all;\n}\n\n.xr-icon-database,\n.xr-icon-file-text2,\n.xr-no-icon {\n  display: inline-block;\n  vertical-align: middle;\n  width: 1em;\n  height: 1.5em !important;\n  stroke-width: 0;\n  stroke: currentColor;\n  fill: currentColor;\n}\n</style><pre class='xr-text-repr-fallback'>&lt;xarray.Dataset&gt;\nDimensions:           (phony_dim_26: 37, phony_dim_27: 36, phony_dim_28: 18,\n                       phony_dim_29: 13, phony_dim_30: 5, phony_dim_31: 4,\n                       phony_dim_32: 131, phony_dim_33: 92476, phony_dim_34: 7,\n                       phony_dim_35: 131, phony_dim_36: 4, phony_dim_37: 7)\nDimensions without coordinates: phony_dim_26, phony_dim_27, phony_dim_28,\n                                phony_dim_29, phony_dim_30, phony_dim_31,\n                                phony_dim_32, phony_dim_33, phony_dim_34,\n                                phony_dim_35, phony_dim_36, phony_dim_37\nData variables:\n    Radiance_BOA_sca  (phony_dim_26, phony_dim_27, phony_dim_28, phony_dim_29, phony_dim_30, phony_dim_31) float64 ...\n    Radiance_BOA_vec  (phony_dim_26, phony_dim_27, phony_dim_28, phony_dim_29, phony_dim_30, phony_dim_31) float64 ...\n    skyrad0           (phony_dim_32, phony_dim_33, phony_dim_31, phony_dim_34) float64 ...\n    sunrad0           (phony_dim_35, phony_dim_36, phony_dim_37) float64 ...</pre><div class='xr-wrap' style='display:none'><div class='xr-header'><div class='xr-obj-type'>xarray.Dataset</div></div><ul class='xr-sections'><li class='xr-section-item'><input id='section-764d77e2-899a-442f-9bf2-8ffcca43c3b5' class='xr-section-summary-in' type='checkbox' disabled ><label for='section-764d77e2-899a-442f-9bf2-8ffcca43c3b5' class='xr-section-summary'  title='Expand/collapse section'>Dimensions:</label><div class='xr-section-inline-details'><ul class='xr-dim-list'><li><span>phony_dim_26</span>: 37</li><li><span>phony_dim_27</span>: 36</li><li><span>phony_dim_28</span>: 18</li><li><span>phony_dim_29</span>: 13</li><li><span>phony_dim_30</span>: 5</li><li><span>phony_dim_31</span>: 4</li><li><span>phony_dim_32</span>: 131</li><li><span>phony_dim_33</span>: 92476</li><li><span>phony_dim_34</span>: 7</li><li><span>phony_dim_35</span>: 131</li><li><span>phony_dim_36</span>: 4</li><li><span>phony_dim_37</span>: 7</li></ul></div><div class='xr-section-details'></div></li><li class='xr-section-item'><input id='section-e2e617b2-6098-47cf-a80b-fd21ee6d7475' class='xr-section-summary-in' type='checkbox' disabled ><label for='section-e2e617b2-6098-47cf-a80b-fd21ee6d7475' class='xr-section-summary'  title='Expand/collapse section'>Coordinates: <span>(0)</span></label><div class='xr-section-inline-details'></div><div class='xr-section-details'><ul class='xr-var-list'></ul></div></li><li class='xr-section-item'><input id='section-be5c1e4b-3fcd-4c93-a5dc-b7d5f44dd089' class='xr-section-summary-in' type='checkbox'  checked><label for='section-be5c1e4b-3fcd-4c93-a5dc-b7d5f44dd089' class='xr-section-summary' >Data variables: <span>(4)</span></label><div class='xr-section-inline-details'></div><div class='xr-section-details'><ul class='xr-var-list'><li class='xr-var-item'><div class='xr-var-name'><span>Radiance_BOA_sca</span></div><div class='xr-var-dims'>(phony_dim_26, phony_dim_27, phony_dim_28, phony_dim_29, phony_dim_30, phony_dim_31)</div><div class='xr-var-dtype'>float64</div><div class='xr-var-preview xr-preview'>...</div><input id='attrs-ca96bc59-7576-4019-87e8-307defdb88cd' class='xr-var-attrs-in' type='checkbox' ><label for='attrs-ca96bc59-7576-4019-87e8-307defdb88cd' title='Show/Hide attributes'><svg class='icon xr-icon-file-text2'><use xlink:href='#icon-file-text2'></use></svg></label><input id='data-627d3ff5-5326-400c-a7ed-af4ae193bb73' class='xr-var-data-in' type='checkbox'><label for='data-627d3ff5-5326-400c-a7ed-af4ae193bb73' title='Show/Hide data repr'><svg class='icon xr-icon-database'><use xlink:href='#icon-database'></use></svg></label><div class='xr-var-attrs'><dl class='xr-attrs'><dt><span>MATLAB_class :</span></dt><dd>double</dd></dl></div><div class='xr-var-data'><pre>[6233760 values with dtype=float64]</pre></div></li><li class='xr-var-item'><div class='xr-var-name'><span>Radiance_BOA_vec</span></div><div class='xr-var-dims'>(phony_dim_26, phony_dim_27, phony_dim_28, phony_dim_29, phony_dim_30, phony_dim_31)</div><div class='xr-var-dtype'>float64</div><div class='xr-var-preview xr-preview'>...</div><input id='attrs-47adc79a-94d7-417e-96e6-26cff9976fbc' class='xr-var-attrs-in' type='checkbox' ><label for='attrs-47adc79a-94d7-417e-96e6-26cff9976fbc' title='Show/Hide attributes'><svg class='icon xr-icon-file-text2'><use xlink:href='#icon-file-text2'></use></svg></label><input id='data-b4d51fe5-e269-4c63-90bf-71fd7bd871b7' class='xr-var-data-in' type='checkbox'><label for='data-b4d51fe5-e269-4c63-90bf-71fd7bd871b7' title='Show/Hide data repr'><svg class='icon xr-icon-database'><use xlink:href='#icon-database'></use></svg></label><div class='xr-var-attrs'><dl class='xr-attrs'><dt><span>MATLAB_class :</span></dt><dd>double</dd></dl></div><div class='xr-var-data'><pre>[6233760 values with dtype=float64]</pre></div></li><li class='xr-var-item'><div class='xr-var-name'><span>skyrad0</span></div><div class='xr-var-dims'>(phony_dim_32, phony_dim_33, phony_dim_31, phony_dim_34)</div><div class='xr-var-dtype'>float64</div><div class='xr-var-preview xr-preview'>...</div><input id='attrs-4343325b-6949-4fe1-9cd0-333a8c235878' class='xr-var-attrs-in' type='checkbox' ><label for='attrs-4343325b-6949-4fe1-9cd0-333a8c235878' title='Show/Hide attributes'><svg class='icon xr-icon-file-text2'><use xlink:href='#icon-file-text2'></use></svg></label><input id='data-d2f44522-3361-4142-83ad-8ef351b319da' class='xr-var-data-in' type='checkbox'><label for='data-d2f44522-3361-4142-83ad-8ef351b319da' title='Show/Hide data repr'><svg class='icon xr-icon-database'><use xlink:href='#icon-database'></use></svg></label><div class='xr-var-attrs'><dl class='xr-attrs'><dt><span>MATLAB_class :</span></dt><dd>double</dd></dl></div><div class='xr-var-data'><pre>[339201968 values with dtype=float64]</pre></div></li><li class='xr-var-item'><div class='xr-var-name'><span>sunrad0</span></div><div class='xr-var-dims'>(phony_dim_35, phony_dim_36, phony_dim_37)</div><div class='xr-var-dtype'>float64</div><div class='xr-var-preview xr-preview'>...</div><input id='attrs-f3ab0faa-f873-4d4f-bdac-330a38cd8417' class='xr-var-attrs-in' type='checkbox' ><label for='attrs-f3ab0faa-f873-4d4f-bdac-330a38cd8417' title='Show/Hide attributes'><svg class='icon xr-icon-file-text2'><use xlink:href='#icon-file-text2'></use></svg></label><input id='data-5e73325d-afb9-4321-a2af-d859d503e7ba' class='xr-var-data-in' type='checkbox'><label for='data-5e73325d-afb9-4321-a2af-d859d503e7ba' title='Show/Hide data repr'><svg class='icon xr-icon-database'><use xlink:href='#icon-database'></use></svg></label><div class='xr-var-attrs'><dl class='xr-attrs'><dt><span>MATLAB_class :</span></dt><dd>double</dd></dl></div><div class='xr-var-data'><pre>[3668 values with dtype=float64]</pre></div></li></ul></div></li><li class='xr-section-item'><input id='section-15b79c29-e7a9-461e-b939-cdf66277500f' class='xr-section-summary-in' type='checkbox' disabled ><label for='section-15b79c29-e7a9-461e-b939-cdf66277500f' class='xr-section-summary'  title='Expand/collapse section'>Indexes: <span>(0)</span></label><div class='xr-section-inline-details'></div><div class='xr-section-details'><ul class='xr-var-list'></ul></div></li><li class='xr-section-item'><input id='section-ede9e776-d047-4a54-bb1c-d842728fafed' class='xr-section-summary-in' type='checkbox' disabled ><label for='section-ede9e776-d047-4a54-bb1c-d842728fafed' class='xr-section-summary'  title='Expand/collapse section'>Attributes: <span>(0)</span></label><div class='xr-section-inline-details'></div><div class='xr-section-details'><dl class='xr-attrs'></dl></div></li></ul></div></div>"
     },
     "execution_count": 12,
     "metadata": {},
     "output_type": "execute_result"
    }
   ],
   "source": [
    "rho_sky_zhang2018"
   ],
   "metadata": {
    "collapsed": false,
    "ExecuteTime": {
     "end_time": "2024-05-16T07:27:46.077355863Z",
     "start_time": "2024-05-16T07:27:45.961013503Z"
    }
   },
   "id": "429c91992f020e06",
   "execution_count": 12
  },
  {
   "cell_type": "code",
   "outputs": [],
   "source": [],
   "metadata": {
    "collapsed": false,
    "ExecuteTime": {
     "start_time": "2024-05-16T07:27:35.836710228Z"
    }
   },
   "id": "d46fcfa49226f769"
  }
 ],
 "metadata": {
  "kernelspec": {
   "display_name": "Python 3",
   "language": "python",
   "name": "python3"
  },
  "language_info": {
   "codemirror_mode": {
    "name": "ipython",
    "version": 2
   },
   "file_extension": ".py",
   "mimetype": "text/x-python",
   "name": "python",
   "nbconvert_exporter": "python",
   "pygments_lexer": "ipython2",
   "version": "2.7.6"
  }
 },
 "nbformat": 4,
 "nbformat_minor": 5
}
